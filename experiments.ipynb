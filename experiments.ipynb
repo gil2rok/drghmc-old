{
 "cells": [
  {
   "cell_type": "markdown",
   "metadata": {},
   "source": [
    "# Install and Defaults"
   ]
  },
  {
   "cell_type": "code",
   "execution_count": 1,
   "metadata": {},
   "outputs": [
    {
     "name": "stdout",
     "output_type": "stream",
     "text": [
      "Obtaining file:///Users/gil2rok/school/flatiron/bayes-kit\n",
      "  Installing build dependencies ... \u001b[?25ldone\n",
      "\u001b[?25h  Checking if build backend supports build_editable ... \u001b[?25ldone\n",
      "\u001b[?25h  Getting requirements to build editable ... \u001b[?25ldone\n",
      "\u001b[?25h  Installing backend dependencies ... \u001b[?25ldone\n",
      "\u001b[?25h  Preparing editable metadata (pyproject.toml) ... \u001b[?25ldone\n",
      "\u001b[?25hRequirement already satisfied: numpy>=1.17.0 in /Users/gil2rok/mambaforge/envs/drghmc/lib/python3.11/site-packages (from bayes-kit==0.0.1) (1.24.3)\n",
      "Building wheels for collected packages: bayes-kit\n",
      "  Building editable for bayes-kit (pyproject.toml) ... \u001b[?25ldone\n",
      "\u001b[?25h  Created wheel for bayes-kit: filename=bayes_kit-0.0.1-0.editable-py3-none-any.whl size=4942 sha256=ce9f35f7f0fca387d5af8636a9b65a392fdee67f2d4436d81fad3559ce5050f4\n",
      "  Stored in directory: /private/var/folders/sm/j_xxwpn91bb8wdfzfy3mn5600000gn/T/pip-ephem-wheel-cache-nszjlxok/wheels/ca/dd/8e/acee66b0432b70745a44fbdd89e7ff9ed730279d05a10b63bd\n",
      "Successfully built bayes-kit\n",
      "Installing collected packages: bayes-kit\n",
      "  Attempting uninstall: bayes-kit\n",
      "    Found existing installation: bayes-kit 0.0.1\n",
      "    Uninstalling bayes-kit-0.0.1:\n",
      "      Successfully uninstalled bayes-kit-0.0.1\n",
      "Successfully installed bayes-kit-0.0.1\n",
      "Note: you may need to restart the kernel to use updated packages.\n"
     ]
    }
   ],
   "source": [
    "%pip install -e ../bayes-kit\n",
    "%load_ext autoreload\n",
    "%autoreload 2"
   ]
  },
  {
   "cell_type": "code",
   "execution_count": 2,
   "metadata": {},
   "outputs": [],
   "source": [
    "import os\n",
    "import json\n",
    "from pathlib import Path\n",
    "from collections import namedtuple\n",
    "\n",
    "import numpy as np\n",
    "import bridgestan as bs\n",
    "from tqdm import tqdm\n",
    "from sklearn.model_selection import ParameterGrid\n",
    "\n",
    "from utils import DualAveragingStepSize, compute_hash, my_save\n",
    "from bayes_kit.drghmc import DrGhmcDiag"
   ]
  },
  {
   "cell_type": "markdown",
   "metadata": {},
   "source": [
    "# Helper Functions"
   ]
  },
  {
   "cell_type": "code",
   "execution_count": 3,
   "metadata": {},
   "outputs": [],
   "source": [
    "def get_model(hp):\n",
    "    stan = os.path.join(hp.bridgestan_dir, 'test_models', hp.model_name, hp.model_name + '.stan')\n",
    "    data = os.path.join(hp.bridgestan_dir, 'test_models', hp.model_name, hp.model_name + '.data.json')\n",
    "    print(stan)\n",
    "    print(data)\n",
    "    model = bs.StanModel.from_stan_file(stan, data)\n",
    "    \n",
    "    class Dim:\n",
    "        def __init__(self, model):\n",
    "            self.model = model        \n",
    "        def dims(self):\n",
    "            return 1\n",
    "        def log_density(self, theta):\n",
    "            return self.model.log_density(theta)\n",
    "        def log_density_gradient(self, theta):\n",
    "            return self.model.log_density_gradient(theta)\n",
    "    model = Dim(model)\n",
    "    \n",
    "    return model"
   ]
  },
  {
   "cell_type": "code",
   "execution_count": 4,
   "metadata": {},
   "outputs": [],
   "source": [
    "from bayes_kit import HMCDiag\n",
    "\n",
    "def get_init_stepsize(hp):\n",
    "    model = get_model(hp)\n",
    "    init_stepsize = hp.first_stepsize\n",
    "    dual_avg = DualAveragingStepSize(initial_step_size=init_stepsize, nadapt=hp.burn_in)\n",
    "    for i in range(hp.burn_in):\n",
    "        hmc = HMCDiag(model=model, steps=10, stepsize=init_stepsize)\n",
    "        _, _, acceptp = hmc.sample(return_acceptp=True)\n",
    "        init_stepsize = dual_avg(i=i, p_accept=acceptp)\n",
    "    return init_stepsize"
   ]
  },
  {
   "cell_type": "markdown",
   "metadata": {},
   "source": [
    "# Experiments"
   ]
  },
  {
   "cell_type": "code",
   "execution_count": 5,
   "metadata": {},
   "outputs": [],
   "source": [
    "def experiment(sp, hp):\n",
    "    model = get_model(hp)\n",
    "    init_stepsize = sp.init_stepsize # get_init_stepsize(hp)\n",
    "    stepsize = lambda k: init_stepsize * (sp.adaptivity_factor ** -k)\n",
    "    steps = 1 if sp.leapfrog_steps == \"const_num_steps\" else lambda k: int(1 / stepsize(k))\n",
    "    \n",
    "    sampler = DrGhmcDiag(\n",
    "        model=model,\n",
    "        stepsize=stepsize,\n",
    "        steps=steps,\n",
    "        num_proposals=sp.num_proposals,\n",
    "        probabilistic=sp.probabilistic,\n",
    "        dampening=sp.dampening,\n",
    "    )\n",
    "   \n",
    "    burned_draws = np.asanyarray([sampler.sample()[0] for _ in range(hp.burn_in)])\n",
    "    draws = np.asanyarray([sampler.sample()[0] for _ in range(hp.chain_length)])\n",
    "    my_save(sp, hp, burned_draws, draws)"
   ]
  },
  {
   "cell_type": "code",
   "execution_count": 6,
   "metadata": {},
   "outputs": [],
   "source": [
    "HyperParamsTuple = namedtuple(\"hyper_params\", [\"model_name\", \"burn_in\", \"chain_length\", \"save_dir\", \"bridgestan_dir\", \"first_stepsize\"])\n",
    "SamplerParamsTuple = namedtuple(\"model_params\", [\"init_stepsize\", \"adaptivity_factor\", \"leapfrog_steps\", \"dampening\", \"num_proposals\", \"probabilistic\"])\n",
    "\n",
    "def experiment_runner():\n",
    "    # although burn_in and chain_length are sampler parameters, \n",
    "    # we do not grid search over them and treat them as hyperparameters\n",
    "    hp = HyperParamsTuple(\n",
    "        model_name='bernoulli',\n",
    "        burn_in=100,\n",
    "        save_dir='res',\n",
    "        bridgestan_dir='.bridgestan/bridgestan-2.1.1/',\n",
    "        chain_length=1000,\n",
    "        first_stepsize=0.1\n",
    "    )\n",
    "    \n",
    "    sampler_param_grid = ParameterGrid(\n",
    "        {\"init_stepsize\": [3e-1, 1e-1, 1e-2, 1e-3],\n",
    "        \"adaptivity_factor\": [2, 4],\n",
    "        \"leapfrog_steps\": [\"const_num_steps\", \"const_trajectory_length\"],\n",
    "        \"dampening\": [0.1, 0.2, 0.05],\n",
    "        \"num_proposals\": [2, 3, 4, 5],\n",
    "        \"probabilistic\": [True, False]}\n",
    "    )\n",
    "\n",
    "    bs.set_bridgestan_path(hp.bridgestan_dir)\n",
    "    # TODO: dispatch in parallel on slurm\n",
    "    for sampler_params in tqdm(sampler_param_grid):\n",
    "        sp = SamplerParamsTuple(**sampler_params)\n",
    "        experiment(sp, hp)"
   ]
  },
  {
   "cell_type": "code",
   "execution_count": 10,
   "metadata": {},
   "outputs": [
    {
     "name": "stderr",
     "output_type": "stream",
     "text": [
      "  0%|          | 0/384 [00:00<?, ?it/s]"
     ]
    },
    {
     "name": "stdout",
     "output_type": "stream",
     "text": [
      ".bridgestan/bridgestan-2.1.1/test_models/bernoulli/bernoulli.stan\n",
      ".bridgestan/bridgestan-2.1.1/test_models/bernoulli/bernoulli.data.json\n"
     ]
    },
    {
     "name": "stderr",
     "output_type": "stream",
     "text": [
      "\n"
     ]
    },
    {
     "ename": "OSError",
     "evalue": "dlopen(/Users/gil2rok/school/flatiron/drghmc/.bridgestan/bridgestan-2.1.1/test_models/bernoulli/bernoulli_model.so, 0x0006): Library not loaded: @rpath/libtbb.dylib\n  Referenced from: <D69E5D4F-5B7E-31C6-921A-E05964A5BB99> /Users/gil2rok/school/flatiron/drghmc/.bridgestan/bridgestan-2.1.1/test_models/bernoulli/bernoulli_model.so\n  Reason: tried: '/Users/gil2rok/school/flatiron/project/.bridgestan/bridgestan-2.1.1/stan/lib/stan_math/lib/tbb/libtbb.dylib' (no such file), '/System/Volumes/Preboot/Cryptexes/OS/Users/gil2rok/school/flatiron/project/.bridgestan/bridgestan-2.1.1/stan/lib/stan_math/lib/tbb/libtbb.dylib' (no such file), '/Users/gil2rok/school/flatiron/project/.bridgestan/bridgestan-2.1.1/stan/lib/stan_math/lib/tbb/libtbb.dylib' (no such file), '/System/Volumes/Preboot/Cryptexes/OS/Users/gil2rok/school/flatiron/project/.bridgestan/bridgestan-2.1.1/stan/lib/stan_math/lib/tbb/libtbb.dylib' (no such file), '/Users/gil2rok/school/flatiron/project/.bridgestan/bridgestan-2.1.1/stan/lib/stan_math/lib/tbb/libtbb.dylib' (no such file), '/System/Volumes/Preboot/Cryptexes/OS/Users/gil2rok/school/flatiron/project/.bridgestan/bridgestan-2.1.1/stan/lib/stan_math/lib/tbb/libtbb.dylib' (no such file), '/Users/gil2rok/school/flatiron/project/.bridgestan/bridgestan-2.1.1/stan/lib/stan_math/lib/tbb/libtbb.dylib' (no such file), '/System/Volumes/Preboot/Cryptexes/OS/Users/gil2rok/school/flatiron/project/.bridgestan/bridgestan-2.1.1/stan/lib/stan_math/lib/tbb/libtbb.dylib' (no such file), '/Users/gil2rok/mambaforge/envs/drghmc/lib/python3.11/lib-dynload/../../libtbb.dylib' (no such file), '/Users/gil2rok/mambaforge/envs/drghmc/bin/../lib/libtbb.dylib' (no such file), '/usr/local/lib/libtbb.dylib' (no such file), '/usr/lib/libtbb.dylib' (no such file, not in dyld cache)",
     "output_type": "error",
     "traceback": [
      "\u001b[0;31m---------------------------------------------------------------------------\u001b[0m",
      "\u001b[0;31mOSError\u001b[0m                                   Traceback (most recent call last)",
      "Cell \u001b[0;32mIn[10], line 1\u001b[0m\n\u001b[0;32m----> 1\u001b[0m \u001b[43mexperiment_runner\u001b[49m\u001b[43m(\u001b[49m\u001b[43m)\u001b[49m\n",
      "Cell \u001b[0;32mIn[6], line 29\u001b[0m, in \u001b[0;36mexperiment_runner\u001b[0;34m()\u001b[0m\n\u001b[1;32m     27\u001b[0m \u001b[38;5;28;01mfor\u001b[39;00m sampler_params \u001b[38;5;129;01min\u001b[39;00m tqdm(sampler_param_grid):\n\u001b[1;32m     28\u001b[0m     sp \u001b[38;5;241m=\u001b[39m SamplerParamsTuple(\u001b[38;5;241m*\u001b[39m\u001b[38;5;241m*\u001b[39msampler_params)\n\u001b[0;32m---> 29\u001b[0m     \u001b[43mexperiment\u001b[49m\u001b[43m(\u001b[49m\u001b[43msp\u001b[49m\u001b[43m,\u001b[49m\u001b[43m \u001b[49m\u001b[43mhp\u001b[49m\u001b[43m)\u001b[49m\n",
      "Cell \u001b[0;32mIn[5], line 2\u001b[0m, in \u001b[0;36mexperiment\u001b[0;34m(sp, hp)\u001b[0m\n\u001b[1;32m      1\u001b[0m \u001b[38;5;28;01mdef\u001b[39;00m \u001b[38;5;21mexperiment\u001b[39m(sp, hp):\n\u001b[0;32m----> 2\u001b[0m     model \u001b[38;5;241m=\u001b[39m \u001b[43mget_model\u001b[49m\u001b[43m(\u001b[49m\u001b[43mhp\u001b[49m\u001b[43m)\u001b[49m\n\u001b[1;32m      3\u001b[0m     init_stepsize \u001b[38;5;241m=\u001b[39m sp\u001b[38;5;241m.\u001b[39minit_stepsize \u001b[38;5;66;03m# get_init_stepsize(hp)\u001b[39;00m\n\u001b[1;32m      4\u001b[0m     stepsize \u001b[38;5;241m=\u001b[39m \u001b[38;5;28;01mlambda\u001b[39;00m k: init_stepsize \u001b[38;5;241m*\u001b[39m (sp\u001b[38;5;241m.\u001b[39madaptivity_factor \u001b[38;5;241m*\u001b[39m\u001b[38;5;241m*\u001b[39m \u001b[38;5;241m-\u001b[39mk)\n",
      "Cell \u001b[0;32mIn[3], line 6\u001b[0m, in \u001b[0;36mget_model\u001b[0;34m(hp)\u001b[0m\n\u001b[1;32m      4\u001b[0m \u001b[38;5;28mprint\u001b[39m(stan)\n\u001b[1;32m      5\u001b[0m \u001b[38;5;28mprint\u001b[39m(data)\n\u001b[0;32m----> 6\u001b[0m model \u001b[38;5;241m=\u001b[39m \u001b[43mbs\u001b[49m\u001b[38;5;241;43m.\u001b[39;49m\u001b[43mStanModel\u001b[49m\u001b[38;5;241;43m.\u001b[39;49m\u001b[43mfrom_stan_file\u001b[49m\u001b[43m(\u001b[49m\u001b[43mstan\u001b[49m\u001b[43m,\u001b[49m\u001b[43m \u001b[49m\u001b[43mdata\u001b[49m\u001b[43m)\u001b[49m\n\u001b[1;32m      8\u001b[0m \u001b[38;5;28;01mclass\u001b[39;00m \u001b[38;5;21;01mDim\u001b[39;00m:\n\u001b[1;32m      9\u001b[0m     \u001b[38;5;28;01mdef\u001b[39;00m \u001b[38;5;21m__init__\u001b[39m(\u001b[38;5;28mself\u001b[39m, model):\n",
      "File \u001b[0;32m~/mambaforge/envs/drghmc/lib/python3.11/site-packages/bridgestan/model.py:245\u001b[0m, in \u001b[0;36mStanModel.from_stan_file\u001b[0;34m(cls, stan_file, model_data, stanc_args, make_args, seed, capture_stan_prints)\u001b[0m\n\u001b[1;32m    217\u001b[0m \u001b[39m\u001b[39m\u001b[39m\"\"\"\u001b[39;00m\n\u001b[1;32m    218\u001b[0m \u001b[39mConstruct a StanModel instance from a ``.stan`` file, compiling if necessary.\u001b[39;00m\n\u001b[1;32m    219\u001b[0m \n\u001b[0;32m   (...)\u001b[0m\n\u001b[1;32m    242\u001b[0m \u001b[39m:raises RuntimeError: If compilation fails.\u001b[39;00m\n\u001b[1;32m    243\u001b[0m \u001b[39m\"\"\"\u001b[39;00m\n\u001b[1;32m    244\u001b[0m result \u001b[39m=\u001b[39m compile_model(stan_file, stanc_args\u001b[39m=\u001b[39mstanc_args, make_args\u001b[39m=\u001b[39mmake_args)\n\u001b[0;32m--> 245\u001b[0m \u001b[39mreturn\u001b[39;00m \u001b[39mcls\u001b[39;49m(\n\u001b[1;32m    246\u001b[0m     \u001b[39mstr\u001b[39;49m(result), model_data, seed\u001b[39m=\u001b[39;49mseed, capture_stan_prints\u001b[39m=\u001b[39;49mcapture_stan_prints\n\u001b[1;32m    247\u001b[0m )\n",
      "File \u001b[0;32m~/mambaforge/envs/drghmc/lib/python3.11/site-packages/bridgestan/model.py:72\u001b[0m, in \u001b[0;36mStanModel.__init__\u001b[0;34m(self, model_lib, model_data, seed, capture_stan_prints)\u001b[0m\n\u001b[1;32m     70\u001b[0m windows_dll_path_setup()\n\u001b[1;32m     71\u001b[0m \u001b[39mself\u001b[39m\u001b[39m.\u001b[39mlib_path \u001b[39m=\u001b[39m model_lib\n\u001b[0;32m---> 72\u001b[0m \u001b[39mself\u001b[39m\u001b[39m.\u001b[39mstanlib \u001b[39m=\u001b[39m ctypes\u001b[39m.\u001b[39;49mCDLL(\u001b[39mself\u001b[39;49m\u001b[39m.\u001b[39;49mlib_path)\n\u001b[1;32m     74\u001b[0m \u001b[39mself\u001b[39m\u001b[39m.\u001b[39mdata \u001b[39m=\u001b[39m model_data \u001b[39mor\u001b[39;00m \u001b[39m\"\u001b[39m\u001b[39m\"\u001b[39m\n\u001b[1;32m     75\u001b[0m \u001b[39mself\u001b[39m\u001b[39m.\u001b[39mseed \u001b[39m=\u001b[39m seed\n",
      "File \u001b[0;32m~/mambaforge/envs/drghmc/lib/python3.11/ctypes/__init__.py:376\u001b[0m, in \u001b[0;36mCDLL.__init__\u001b[0;34m(self, name, mode, handle, use_errno, use_last_error, winmode)\u001b[0m\n\u001b[1;32m    373\u001b[0m \u001b[39mself\u001b[39m\u001b[39m.\u001b[39m_FuncPtr \u001b[39m=\u001b[39m _FuncPtr\n\u001b[1;32m    375\u001b[0m \u001b[39mif\u001b[39;00m handle \u001b[39mis\u001b[39;00m \u001b[39mNone\u001b[39;00m:\n\u001b[0;32m--> 376\u001b[0m     \u001b[39mself\u001b[39m\u001b[39m.\u001b[39m_handle \u001b[39m=\u001b[39m _dlopen(\u001b[39mself\u001b[39;49m\u001b[39m.\u001b[39;49m_name, mode)\n\u001b[1;32m    377\u001b[0m \u001b[39melse\u001b[39;00m:\n\u001b[1;32m    378\u001b[0m     \u001b[39mself\u001b[39m\u001b[39m.\u001b[39m_handle \u001b[39m=\u001b[39m handle\n",
      "\u001b[0;31mOSError\u001b[0m: dlopen(/Users/gil2rok/school/flatiron/drghmc/.bridgestan/bridgestan-2.1.1/test_models/bernoulli/bernoulli_model.so, 0x0006): Library not loaded: @rpath/libtbb.dylib\n  Referenced from: <D69E5D4F-5B7E-31C6-921A-E05964A5BB99> /Users/gil2rok/school/flatiron/drghmc/.bridgestan/bridgestan-2.1.1/test_models/bernoulli/bernoulli_model.so\n  Reason: tried: '/Users/gil2rok/school/flatiron/project/.bridgestan/bridgestan-2.1.1/stan/lib/stan_math/lib/tbb/libtbb.dylib' (no such file), '/System/Volumes/Preboot/Cryptexes/OS/Users/gil2rok/school/flatiron/project/.bridgestan/bridgestan-2.1.1/stan/lib/stan_math/lib/tbb/libtbb.dylib' (no such file), '/Users/gil2rok/school/flatiron/project/.bridgestan/bridgestan-2.1.1/stan/lib/stan_math/lib/tbb/libtbb.dylib' (no such file), '/System/Volumes/Preboot/Cryptexes/OS/Users/gil2rok/school/flatiron/project/.bridgestan/bridgestan-2.1.1/stan/lib/stan_math/lib/tbb/libtbb.dylib' (no such file), '/Users/gil2rok/school/flatiron/project/.bridgestan/bridgestan-2.1.1/stan/lib/stan_math/lib/tbb/libtbb.dylib' (no such file), '/System/Volumes/Preboot/Cryptexes/OS/Users/gil2rok/school/flatiron/project/.bridgestan/bridgestan-2.1.1/stan/lib/stan_math/lib/tbb/libtbb.dylib' (no such file), '/Users/gil2rok/school/flatiron/project/.bridgestan/bridgestan-2.1.1/stan/lib/stan_math/lib/tbb/libtbb.dylib' (no such file), '/System/Volumes/Preboot/Cryptexes/OS/Users/gil2rok/school/flatiron/project/.bridgestan/bridgestan-2.1.1/stan/lib/stan_math/lib/tbb/libtbb.dylib' (no such file), '/Users/gil2rok/mambaforge/envs/drghmc/lib/python3.11/lib-dynload/../../libtbb.dylib' (no such file), '/Users/gil2rok/mambaforge/envs/drghmc/bin/../lib/libtbb.dylib' (no such file), '/usr/local/lib/libtbb.dylib' (no such file), '/usr/lib/libtbb.dylib' (no such file, not in dyld cache)"
     ]
    }
   ],
   "source": [
    "experiment_runner()"
   ]
  }
 ],
 "metadata": {
  "kernelspec": {
   "display_name": "Python 3.11.3 ('drghmc')",
   "language": "python",
   "name": "python3"
  },
  "language_info": {
   "codemirror_mode": {
    "name": "ipython",
    "version": 3
   },
   "file_extension": ".py",
   "mimetype": "text/x-python",
   "name": "python",
   "nbconvert_exporter": "python",
   "pygments_lexer": "ipython3",
   "version": "3.11.3"
  },
  "orig_nbformat": 4,
  "vscode": {
   "interpreter": {
    "hash": "b50bc3576966b94dc2b1453e2e4ce50544ad90147158a78dd69d18f78ae50609"
   }
  }
 },
 "nbformat": 4,
 "nbformat_minor": 2
}
