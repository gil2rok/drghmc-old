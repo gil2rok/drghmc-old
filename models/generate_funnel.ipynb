{
 "cells": [
  {
   "cell_type": "markdown",
   "metadata": {},
   "source": [
    "# Imports and Defaults"
   ]
  },
  {
   "cell_type": "code",
   "execution_count": 1,
   "metadata": {},
   "outputs": [],
   "source": [
    "import os\n",
    "import numpy as np\n",
    "import seaborn as sns"
   ]
  },
  {
   "cell_type": "code",
   "execution_count": 2,
   "metadata": {},
   "outputs": [],
   "source": [
    "# parameters I can set\n",
    "seed = 1234\n",
    "num_chains = 4\n",
    "num_samples = 10000\n",
    "\n",
    "# fixed parameters\n",
    "f1_dim = 2 # funnel 1 has 2 dimmensions\n",
    "f2_dim = 3 # funnel 2 has 3 dimmensions"
   ]
  },
  {
   "cell_type": "code",
   "execution_count": 3,
   "metadata": {},
   "outputs": [],
   "source": [
    "rng = np.random.default_rng(seed)"
   ]
  },
  {
   "cell_type": "markdown",
   "metadata": {},
   "source": [
    "# Generate Samples From Funnel"
   ]
  },
  {
   "cell_type": "code",
   "execution_count": 4,
   "metadata": {},
   "outputs": [],
   "source": [
    "def generate_funnel(funnel_dim): # [chain_num, n_samples, params_dim]\n",
    "    # generate parameters\n",
    "    y_raw = rng.normal(loc=0, \n",
    "                       scale=3, \n",
    "                       size=(num_chains, num_samples, 1)\n",
    "    )\n",
    "    x_raw = rng.normal(loc=0, \n",
    "                       scale=np.exp(y_raw / 2), \n",
    "                       size=(num_chains, num_samples, funnel_dim - 1)\n",
    "    )\n",
    "    \n",
    "    # transform and return parameters\n",
    "    y = 3 * y_raw\n",
    "    x = np.exp(y_raw / 2) * x_raw\n",
    "    return np.concatenate((y, x), axis=2)"
   ]
  },
  {
   "cell_type": "code",
   "execution_count": 5,
   "metadata": {},
   "outputs": [],
   "source": [
    "f1_samples = generate_funnel(f1_dim)\n",
    "f1_fname = os.path.join(\"funnel_01\", \"funnel_01.samples.npy\")\n",
    "np.save(f1_fname, f1_samples)\n",
    "\n",
    "f1_fname = os.path.join(\"PDB_02\", \"PDB_02.samples.npy\")\n",
    "np.save(f1_fname, f1_samples)\n",
    "\n",
    "f2_samples = generate_funnel(f2_dim)\n",
    "f2_fname = os.path.join(\"funnel_02\", \"funnel_02.samples.npy\")\n",
    "np.save(f2_fname, f2_samples)"
   ]
  }
 ],
 "metadata": {
  "kernelspec": {
   "display_name": "Python 3 (ipykernel)",
   "language": "python",
   "name": "python3"
  },
  "language_info": {
   "codemirror_mode": {
    "name": "ipython",
    "version": 3
   },
   "file_extension": ".py",
   "mimetype": "text/x-python",
   "name": "python",
   "nbconvert_exporter": "python",
   "pygments_lexer": "ipython3",
   "version": "3.9.15"
  },
  "vscode": {
   "interpreter": {
    "hash": "f09ddcd55dac2911e2062948b12733d3deae48169b849573be9ff9549a9a1152"
   }
  }
 },
 "nbformat": 4,
 "nbformat_minor": 4
}
